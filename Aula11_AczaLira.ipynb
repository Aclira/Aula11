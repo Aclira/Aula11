{
  "nbformat": 4,
  "nbformat_minor": 0,
  "metadata": {
    "colab": {
      "name": "Aula11_AczaLira.ipynb",
      "version": "0.3.2",
      "provenance": [],
      "collapsed_sections": []
    },
    "kernelspec": {
      "name": "python3",
      "display_name": "Python 3"
    }
  },
  "cells": [
    {
      "metadata": {
        "id": "oxnrOpun_3Il",
        "colab_type": "text"
      },
      "cell_type": "markdown",
      "source": [
        "# Resolução de Sistemas Lineares - Métodos Iterativos"
      ]
    },
    {
      "metadata": {
        "id": "1BwiluA4QkmU",
        "colab_type": "text"
      },
      "cell_type": "markdown",
      "source": [
        "### Os Exemplos de matrizes foram retiradas do livro \"Cálculo Numérico\""
      ]
    },
    {
      "metadata": {
        "id": "q-JcxtBVJ5VK",
        "colab_type": "code",
        "colab": {
          "base_uri": "https://localhost:8080/",
          "height": 98
        },
        "outputId": "9141cd64-8bfd-4cea-e403-dc9b4536515a"
      },
      "cell_type": "code",
      "source": [
        "\n",
        "A = np.array([[10., 2., 1.],\n",
        "              [1., 5., 1.],\n",
        "              [2., 3., 10.]])\n",
        "\n",
        "b = np.array([[7.], [-8.], [6.]])\n",
        "\n",
        "\n",
        "def criterioParada(A, it):\n",
        "    if it == 0: \n",
        "        return 1\n",
        "    else:\n",
        "        ap = []\n",
        "        t = len(A[it])\n",
        "        for i in range(t):\n",
        "          ap.append(abs(A[it][i] - A[it-1][i]))\n",
        "        dist = max(ap)\n",
        "        dist = dist/max(A[it])\n",
        "        return dist\n",
        "      \n",
        "def jacobiMethod(rtol, A, b):\n",
        "    \n",
        "    k = 0\n",
        "    X0 = []\n",
        "    t = len(A)\n",
        "    apInicial = []\n",
        "    \n",
        "    for i in range(t): \n",
        "      apInicial.append(0)\n",
        "    X0.append(apInicial)\n",
        "    \n",
        "    while(criterioParada(X0,k) > rtol):\n",
        "        y = []\n",
        "        \n",
        "        for i in range(t):\n",
        "            soma = 0\n",
        "            \n",
        "            for j in range(t):\n",
        "                if i != j:\n",
        "                    soma = soma + A[i][j]*X0[k][j]\n",
        "            y.append(((b[i] - soma)/A[i][i]))\n",
        "        X0.append(y)\n",
        "        k +=1\n",
        "        \n",
        "    return X0\n",
        "  \n",
        "\n",
        "jacobiMethod(0.05,A,b)\n",
        "\n"
      ],
      "execution_count": 174,
      "outputs": [
        {
          "output_type": "execute_result",
          "data": {
            "text/plain": [
              "[[0, 0, 0],\n",
              " [array([0.7]), array([-1.6]), array([0.6])],\n",
              " [array([0.96]), array([-1.86]), array([0.94])],\n",
              " [array([0.978]), array([-1.98]), array([0.966])],\n",
              " [array([0.9994]), array([-1.9888]), array([0.9984])]]"
            ]
          },
          "metadata": {
            "tags": []
          },
          "execution_count": 174
        }
      ]
    },
    {
      "metadata": {
        "id": "DFIRXsodxjJI",
        "colab_type": "code",
        "colab": {
          "base_uri": "https://localhost:8080/",
          "height": 33
        },
        "outputId": "953a2bae-3324-446d-f824-e230e034f928"
      },
      "cell_type": "code",
      "source": [
        "def verifyConvergence(A):\n",
        "    v = []\n",
        "    t = len(A)\n",
        "    for i in range(t):\n",
        "        soma = 0\n",
        "        for j in range(t):\n",
        "            if i != j:\n",
        "                soma = soma + A[i][j]\n",
        "        v.append(soma/A[i][i])\n",
        "    if(max(v) < 1):\n",
        "        print(\"Converge para a solução do sistema dado\")\n",
        "    else:\n",
        "        print(\"Não converge para a solução do sistema dado\")\n",
        "        \n",
        "verifyConvergence(A)"
      ],
      "execution_count": 86,
      "outputs": [
        {
          "output_type": "stream",
          "text": [
            "Converge para a solução do sistema dado\n"
          ],
          "name": "stdout"
        }
      ]
    },
    {
      "metadata": {
        "id": "5cLeeEN9lhcX",
        "colab_type": "code",
        "colab": {
          "base_uri": "https://localhost:8080/",
          "height": 82
        },
        "outputId": "0db4308f-960b-4ce1-ade7-a17ff31954d5"
      },
      "cell_type": "code",
      "source": [
        "A = np.array([[5,1,1],[3,4,1],[3,3,6]])\n",
        "b = np.array([[5],[6],[0]])\n",
        "\n",
        "def gaussSeidelMethod(rtol, A, b):\n",
        "    k = 0\n",
        "    X0 = []\n",
        "    t = len(A)\n",
        "    apInicial = []\n",
        "    \n",
        "    for i in range(t): \n",
        "      apInicial.append(0)\n",
        "    X0.append(apInicial)\n",
        "    \n",
        "    while(criterioParada(X0,k) > rtol):\n",
        "        y = []\n",
        "        \n",
        "        \n",
        "        for i in range(t):\n",
        "            soma = 0\n",
        "            \n",
        "            for j in range(t):\n",
        "                ty = len(y)\n",
        "                if i != j:\n",
        "                  if j<ty:\n",
        "                    soma = soma + A[i][j]*y[j]               \n",
        "                  else:\n",
        "                    soma = soma + A[i][j]*X0[k][j]\n",
        "            y.append(((b[i] - soma)/A[i][i]))\n",
        "        X0.append(y)\n",
        "        k +=1\n",
        "        \n",
        "    return X0\n",
        "  \n",
        "\n",
        "gaussSeidelMethod(0.05,A,b)\n"
      ],
      "execution_count": 77,
      "outputs": [
        {
          "output_type": "execute_result",
          "data": {
            "text/plain": [
              "[[0, 0, 0],\n",
              " [array([0.7]), array([-1.74]), array([0.982])],\n",
              " [array([0.9498]), array([-1.98636]), array([1.005948])],\n",
              " [array([0.9966772]), array([-2.00052504]), array([1.00082207])]]"
            ]
          },
          "metadata": {
            "tags": []
          },
          "execution_count": 77
        }
      ]
    },
    {
      "metadata": {
        "id": "lHVbvcdXtGQA",
        "colab_type": "code",
        "colab": {
          "base_uri": "https://localhost:8080/",
          "height": 375
        },
        "outputId": "477d43fd-70f2-4aa7-d3cf-108f8d9f0ef4"
      },
      "cell_type": "code",
      "source": [
        "import matplotlib.pyplot as plt\n",
        "\n",
        "x = np.linspace(-5,5)\n",
        "y1 = 3 - x\n",
        "y2 = (1/2)*(3+x)\n",
        "\n",
        "plt.axvline(x = 0, color = 'gray')\n",
        "plt.axhline(y = 0, color = 'gray')\n",
        "\n",
        "v1 = [0,3,2,1,(4/3)]\n",
        "v2 = [0,1,2,(5/3),(4/3)]\n",
        "\n",
        "plt.plot(v1, v2, 'ro')\n",
        "plt.plot(x, y1)\n",
        "plt.plot(x, y2)\n",
        "plt.show()"
      ],
      "execution_count": 169,
      "outputs": [
        {
          "output_type": "display_data",
          "data": {
            "image/png": "[encoded data removed]",
            "text/plain": [
              "<matplotlib.figure.Figure at 0x7f0e49872eb8>"
            ]
          },
          "metadata": {
            "tags": []
          }
        }
      ]
    },
    {
      "metadata": {
        "id": "Yrwa5Bvg0elx",
        "colab_type": "code",
        "colab": {
          "base_uri": "https://localhost:8080/",
          "height": 391
        },
        "outputId": "458a81af-9607-4ccb-9003-16823f7b8de9"
      },
      "cell_type": "code",
      "source": [
        "import matplotlib.pyplot as plt\n",
        "\n",
        "\n",
        "\n",
        "x = np.linspace(-5,5)\n",
        "y1 = (3 - x)\n",
        "y2 = (1/2)*(3+x)\n",
        "\n",
        "plt.axvline(x = 0, color = 'gray')\n",
        "plt.axhline(y = 0, color = 'gray')\n",
        "\n",
        "v1 = [0,3,2,1,(4/3)]\n",
        "v2 = [0,1,2,(5/3),(4/3)]\n",
        "\n",
        "plt.plot(v1, v2, color = \"red\")\n",
        "plt.plot(x, y1)\n",
        "plt.plot(x, y2)\n",
        "\n",
        "plt.legend()\n",
        "plt.show()"
      ],
      "execution_count": 173,
      "outputs": [
        {
          "output_type": "stream",
          "text": [
            "No handles with labels found to put in legend.\n"
          ],
          "name": "stderr"
        },
        {
          "output_type": "display_data",
          "data": {
            "image/png": "[encoded data removed]",
            "text/plain": [
              "<matplotlib.figure.Figure at 0x7f0e59421b00>"
            ]
          },
          "metadata": {
            "tags": []
          }
        }
      ]
    },
    {
      "metadata": {
        "id": "M4bKMOm3ANoS",
        "colab_type": "text"
      },
      "cell_type": "markdown",
      "source": [
        "# Resolução de Sistemas Lineares - Método Iterativo de Jacobi"
      ]
    },
    {
      "metadata": {
        "id": "lZCRhXoeBKCE",
        "colab_type": "text"
      },
      "cell_type": "markdown",
      "source": [
        "### Exemplo A"
      ]
    },
    {
      "metadata": {
        "id": "P8FaxE9SBinf",
        "colab_type": "code",
        "colab": {
          "base_uri": "https://localhost:8080/",
          "height": 33
        },
        "outputId": "b0c5db11-d515-4203-f7aa-e1fb5a55537e"
      },
      "cell_type": "code",
      "source": [
        "A = np.array([[10., 2., 1.],\n",
        "              [1., 5., 1.],\n",
        "              [2., 3., 10.]])\n",
        "verifyConvergence(A)"
      ],
      "execution_count": 176,
      "outputs": [
        {
          "output_type": "stream",
          "text": [
            "Converge para a solução do sistema dado\n"
          ],
          "name": "stdout"
        }
      ]
    },
    {
      "metadata": {
        "id": "wttFlwyrBKat",
        "colab_type": "text"
      },
      "cell_type": "markdown",
      "source": [
        "### Exemplo B"
      ]
    },
    {
      "metadata": {
        "id": "v3t_eRn7B-vI",
        "colab_type": "code",
        "colab": {
          "base_uri": "https://localhost:8080/",
          "height": 180
        },
        "outputId": "2cf08710-9fa3-440d-b9c9-9f8a2fd96ebf"
      },
      "cell_type": "code",
      "source": [
        "B = np.array([[1., 1.],\n",
        "              [1., -3.]])\n",
        "b = np.array([3,-3])\n",
        "\n",
        "verifyConvergence(B)\n",
        "jacobiMethod(0.05, B, b)"
      ],
      "execution_count": 181,
      "outputs": [
        {
          "output_type": "stream",
          "text": [
            "Não converge para a solução do sistema dado\n"
          ],
          "name": "stdout"
        },
        {
          "output_type": "execute_result",
          "data": {
            "text/plain": [
              "[[0, 0],\n",
              " [3.0, 1.0],\n",
              " [2.0, 2.0],\n",
              " [1.0, 1.6666666666666667],\n",
              " [1.3333333333333333, 1.3333333333333333],\n",
              " [1.6666666666666667, 1.4444444444444444],\n",
              " [1.5555555555555556, 1.5555555555555556],\n",
              " [1.4444444444444444, 1.5185185185185184],\n",
              " [1.4814814814814816, 1.4814814814814816]]"
            ]
          },
          "metadata": {
            "tags": []
          },
          "execution_count": 181
        }
      ]
    },
    {
      "metadata": {
        "id": "dlulCIZZBKyI",
        "colab_type": "text"
      },
      "cell_type": "markdown",
      "source": [
        "### Exemplo C"
      ]
    },
    {
      "metadata": {
        "id": "Afc4YVXRC-bu",
        "colab_type": "code",
        "colab": {
          "base_uri": "https://localhost:8080/",
          "height": 586
        },
        "outputId": "185b7d6a-9325-4468-f45c-e6fff3e2f530"
      },
      "cell_type": "code",
      "source": [
        "C = np.array([[1., 3., 1.],\n",
        "              [5., 2., 2.],\n",
        "              [0., 6., 8.]])\n",
        "\n",
        "b = np.array([-2, 3, -6])\n",
        "\n",
        "verifyConvergence(C)\n",
        "jacobiMethod(0.05, C, b)"
      ],
      "execution_count": 184,
      "outputs": [
        {
          "output_type": "stream",
          "text": [
            "Não converge para a solução do sistema dado\n"
          ],
          "name": "stdout"
        },
        {
          "output_type": "execute_result",
          "data": {
            "text/plain": [
              "[[0, 0, 0],\n",
              " [-2.0, 1.5, -0.75],\n",
              " [-5.75, 7.25, -1.875],\n",
              " [-21.875, 17.75, -6.1875],\n",
              " [-49.0625, 62.375, -14.0625],\n",
              " [-175.0625, 138.21875, -47.53125],\n",
              " [-369.125, 486.6875, -104.4140625],\n",
              " [-1357.6484375, 1028.7265625, -365.765625],\n",
              " [-2722.4140625, 3761.38671875, -772.294921875],\n",
              " [-10513.865234375, 7579.830078125, -2821.7900390625],\n",
              " [-19919.7001953125, 29107.953125, -5685.62255859375],\n",
              " [-81640.23681640625, 55486.373046875, -21831.71484375],\n",
              " [-144629.404296875, 225933.80688476562, -41615.52978515625],\n",
              " [-636187.8908691406, 403190.54052734375, -169451.10516357422],\n",
              " [-1040122.516418457, 1759922.3323364258, -302393.6553955078],\n",
              " [-4977375.3416137695, 2902701.4464416504, -1319942.4992523193],\n",
              " [-7388163.840072632, 13763382.353286743, -2177026.834831238],\n",
              " [-39113122.22502899, 20647437.935012817, -10322537.514965057],\n",
              " [-51619778.290073395, 108105344.57753754, -15485579.201259613],\n",
              " [-308830456.531353, 144535026.4264431, -81079009.18315315],\n",
              " [-352526072.09617615, 853155152.0115356, -108401270.56983232],\n",
              " [-2451064187.4647746, 989716452.3102727, -639866364.7586517],\n",
              " [-2329282994.1721663, 6767526834.9205885, -742287339.9827045],\n",
              " [-19560293166.77906, 6565494826.91312, -5075645126.940441],\n",
              " [-14620839355.79892, 53976378045.38809, -4924121120.93484],\n",
              " [-157005013017.22943, 41476219511.93214, -40482283534.79107],\n",
              " [-83946375003.00534, 432994816079.3647, -31107164634.699104],\n",
              " [-1267877283605.3948, 240973102143.71246, -324746112060.2735],\n",
              " [-398173194372.86395, 3494439321075.2603, -180729826608.53436],\n",
              " [-10302588136619.246, 1176162812542.1943, -2620829490807.1953],\n",
              " [-907658946821.3877, 28377299832356.812, -882122109407.3958],\n",
              " [-84249777387665.05, 3151269476462.365, -21282974874268.36],\n",
              " [11829166444879.264, 231907418343432.5, -2363452107347.524],\n",
              " [-693358802922952.0, -27209464004849.137, -173930563757575.12]]"
            ]
          },
          "metadata": {
            "tags": []
          },
          "execution_count": 184
        }
      ]
    }
  ]
}